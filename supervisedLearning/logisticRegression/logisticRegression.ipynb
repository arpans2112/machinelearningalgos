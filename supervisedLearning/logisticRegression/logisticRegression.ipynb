{
 "cells": [
  {
   "cell_type": "markdown",
   "id": "d912f437-0620-48e1-ab61-311cc4c6dc00",
   "metadata": {},
   "source": [
    "# Tweets analysis using the Logistic Regression Algorithm\n",
    "\n",
    "we will use a Twitter dataset that comes with NLTK. This dataset has been manually annotated and serves to establish baselines for models quickly. Let us import them now as well as a few other libraries we will be using.\n",
    "\n",
    "\n",
    "\n"
   ]
  },
  {
   "cell_type": "markdown",
   "id": "69255bc4-0428-43cf-8c7f-e3fc1c38af34",
   "metadata": {},
   "source": [
    "#### install the below backages"
   ]
  },
  {
   "cell_type": "code",
   "execution_count": 92,
   "id": "5e7dfd87-5377-459d-9f04-36ac6eb7d85e",
   "metadata": {
    "slideshow": {
     "slide_type": "slide"
    },
    "tags": []
   },
   "outputs": [],
   "source": [
    "import numpy as np\n",
    "\n",
    "import matplotlib.pyplot as plt\n",
    "import random\n",
    "\n",
    "from termcolor import cprint\n",
    "\n",
    "import re # regular expression package\n",
    "import string #string module\n",
    "\n",
    "import nltk\n",
    "from nltk.corpus import twitter_samples\n",
    "from nltk.corpus import stopwords # download stop words\n",
    "from nltk.stem import PorterStemmer # module for stemming\n",
    "from nltk.tokenize import TweetTokenizer # module ofr tokenizing"
   ]
  },
  {
   "cell_type": "markdown",
   "id": "ee60aec5-e2f0-42f8-9c6c-f4c36fbfeb6a",
   "metadata": {},
   "source": [
    "#### download twitter samples data"
   ]
  },
  {
   "cell_type": "code",
   "execution_count": 93,
   "id": "f4b10995-8e2e-4d6e-b43d-815e830fff4c",
   "metadata": {},
   "outputs": [
    {
     "name": "stderr",
     "output_type": "stream",
     "text": [
      "[nltk_data] Downloading package twitter_samples to\n",
      "[nltk_data]     /Users/arpansaini/nltk_data...\n",
      "[nltk_data]   Package twitter_samples is already up-to-date!\n"
     ]
    },
    {
     "data": {
      "text/plain": [
       "'DownloadedSuccessfully'"
      ]
     },
     "execution_count": 93,
     "metadata": {},
     "output_type": "execute_result"
    }
   ],
   "source": [
    "\"DownloadedSuccessfully\" if nltk.download('twitter_samples') else \"Download Failed\""
   ]
  },
  {
   "cell_type": "markdown",
   "id": "358bdaf7-ec26-41b8-ad5e-46b3fff3cce4",
   "metadata": {},
   "source": [
    "#### From the downloaded tweets, get only the tweet strings and then check if you can read the tweets\n",
    "\n",
    "Results of below print \\\n",
    "#FollowFriday @France_Inte @PKuchly57 @Milipol_Paris for being top engaged members in my community this week :) \\\n",
    "hopeless for tmr :(  \\ \n",
    "<class 'list'>  \\ \n",
    "5000 \\ \n",
    "<class 'list'> \\\n",
    "5000 \\"
   ]
  },
  {
   "cell_type": "code",
   "execution_count": 99,
   "id": "38f315c3-fd6f-4b66-bda0-66abef38c86a",
   "metadata": {},
   "outputs": [
    {
     "name": "stdout",
     "output_type": "stream",
     "text": [
      "#FollowFriday @France_Inte @PKuchly57 @Milipol_Paris for being top engaged members in my community this week :)\n",
      "hopeless for tmr :(\n",
      "<class 'list'>\n",
      "5000\n",
      "<class 'list'>\n",
      "5000\n"
     ]
    },
    {
     "data": {
      "text/plain": [
       "array([[1.],\n",
       "       [1.],\n",
       "       [1.],\n",
       "       ...,\n",
       "       [0.],\n",
       "       [0.],\n",
       "       [0.]])"
      ]
     },
     "execution_count": 99,
     "metadata": {},
     "output_type": "execute_result"
    }
   ],
   "source": [
    "# Get samples\n",
    "positiveTweets =  twitter_samples.strings('positive_tweets.json')\n",
    "negativeTweets =  twitter_samples.strings('negative_tweets.json')\n",
    "print(positiveTweets[0],negativeTweets[0],type(positiveTweets), len(positiveTweets),type(negativeTweets), len(negativeTweets),sep='\\n') \n",
    "\n",
    "# Get labels\n",
    "labels = np.append(np.ones((len(positiveTweets),1)), np.zeros((len(negativeTweets),1)),axis=0)\n",
    "labels"
   ]
  },
  {
   "cell_type": "code",
   "execution_count": 74,
   "id": "7bcaf1f3-f8a6-40a7-a9b0-e1c5d537e841",
   "metadata": {},
   "outputs": [
    {
     "data": {
      "image/png": "[encoded data removed]",
      "text/plain": [
       "<Figure size 360x360 with 1 Axes>"
      ]
     },
     "metadata": {},
     "output_type": "display_data"
    }
   ],
   "source": [
    "# Check counts in each categories\n",
    "\n",
    "fig = plt.figure(figsize=(5,5))\n",
    "sizes = (len(positiveTweets),len(negativeTweets))\n",
    "labels = ['PositiveLabels','negativeLabels']\n",
    "plt.pie(sizes,labels=labels, autopct='%1.1f%%', shadow=True, startangle=90)\n",
    "plt.axis('equal')\n",
    "plt.show()\n",
    "\n"
   ]
  },
  {
   "cell_type": "code",
   "execution_count": 75,
   "id": "0001084c-0b00-4de4-b2f0-6dc080a1db3c",
   "metadata": {},
   "outputs": [
    {
     "name": "stdout",
     "output_type": "stream",
     "text": [
      "\\d62828test\n"
     ]
    }
   ],
   "source": [
    "print('\\d62828' + 'test')"
   ]
  },
  {
   "cell_type": "code",
   "execution_count": 76,
   "id": "6272ff2d-b5f3-47cf-a6c5-2707aae4d6db",
   "metadata": {},
   "outputs": [
    {
     "name": "stdout",
     "output_type": "stream",
     "text": [
      "\u001b[1m\u001b[32m@dvntownsend I thought that you wanted to take  it slower for while.. :D very glad though\u001b[0m\n",
      "\u001b[1m\u001b[31m@hfaithdavis poor kids momma died :(\u001b[0m\n"
     ]
    }
   ],
   "source": [
    "# checking Random tweets from positive and negative categories. \n",
    "cprint(positiveTweets[random.randint(0,5000)] , \"green\", attrs=[\"bold\"])\n",
    "cprint(negativeTweets[random.randint(0,5000)] , \"red\", attrs=[\"bold\"])"
   ]
  },
  {
   "cell_type": "markdown",
   "id": "0b511f76-216f-4142-aa51-974329a12861",
   "metadata": {},
   "source": [
    "### Preprocessing of tweets\n",
    "\n",
    "data preprocessing is one of the critical step in any machine learning. it includes clearning and formatting before feeding into the machine learning algorithm. FOR NLP the preprocessing steps are comprised of the following steps.  \n",
    "\n",
    "- Tokenize the string\n",
    "- lower casing. \n",
    "- removing stop words and puncuations. \n",
    "- Remove URLS and Handles\n",
    "- stemming ( Convert all words to it's orgin words like tunning, tunned to tun. etc.  \n",
    "\n",
    "\n",
    "### Stemming\n",
    "\n",
    "Stemming is the process of converting a word to its most general form, or stem. This helps in reducing the size of our vocabulary.\n",
    "\n",
    "Consider the words: \n",
    " * **learn**\n",
    " * **learn**ing\n",
    " * **learn**ed\n",
    " * **learn**t\n",
    " \n",
    "All these words are stemmed from its common root **learn**. However, in some cases, the stemming process produces words that are not correct spellings of the root word. For example, **happi** and **sunni**. That's because it chooses the most common stem for related words. For example, we can look at the set of words that comprises the different forms of happy:\n",
    "\n",
    " * **happ**y\n",
    " * **happi**ness\n",
    " * **happi**er\n",
    " \n",
    "We can see that the prefix **happi** is more commonly used. We cannot choose **happ** because it is the stem of unrelated words like **happen**.\n",
    " \n",
    "NLTK has different modules for stemming and we will be using the [PorterStemmer](https://www.nltk.org/api/nltk.stem.html#module-nltk.stem.porter) module which uses the [Porter Stemming Algorithm](https://tartarus.org/martin/PorterStemmer/). Let's see how we can use it in the cell below."
   ]
  },
  {
   "cell_type": "code",
   "execution_count": 81,
   "id": "2cc7bb31-f581-4773-b8b0-bce86512631b",
   "metadata": {},
   "outputs": [
    {
     "name": "stdout",
     "output_type": "stream",
     "text": [
      "My beautiful sunflowers on a sunny Friday morning off :) #sunflowers #favourites #happy #Friday off… https://t.co/3tfYom0N1i\n"
     ]
    },
    {
     "name": "stderr",
     "output_type": "stream",
     "text": [
      "[nltk_data] Downloading package stopwords to\n",
      "[nltk_data]     /Users/arpansaini/nltk_data...\n",
      "[nltk_data]   Unzipping corpora/stopwords.zip.\n"
     ]
    },
    {
     "data": {
      "text/plain": [
       "True"
      ]
     },
     "execution_count": 81,
     "metadata": {},
     "output_type": "execute_result"
    }
   ],
   "source": [
    "# Pick below example for preprocessing and then generalize the idea on all the tweets.\n",
    "tweet = positiveTweets[2277]\n",
    "print(tweet)\n",
    "\n",
    "nltk.download('stopwords')"
   ]
  },
  {
   "cell_type": "code",
   "execution_count": 82,
   "id": "96bdebbc-b2b2-4ca8-9a1d-cd3305418d2f",
   "metadata": {},
   "outputs": [],
   "source": [
    "def preprocessing(tweet):\n",
    "    \n",
    "    processed_tweet = []\n",
    "    \n",
    "    # Remove hpyterlinks and handles.\n",
    "    # Removing old style retweet text \"RT\"     \n",
    "    tweet2 = re.sub(r'^RT[\\s]+', '', tweet)\n",
    "    # Removing hyper link     \n",
    "    tweet2 = re.sub(r'https?://[^\\s\\n\\r]+', '', tweet2)\n",
    "    # Remvoing hash tag     \n",
    "    tweet2 = re.sub(r'#', '', tweet2)\n",
    "    #lower casing. \n",
    "    tweet2 = tweet2.lower()\n",
    "    \n",
    "    # Tokenizing the string. \n",
    "    # instantiate tokenizer class\n",
    "    tokenizer = TweetTokenizer(preserve_case=False, strip_handles=True,\n",
    "                               reduce_len=True)\n",
    "\n",
    "    # tokenize tweets\n",
    "    tweet_tokens = tokenizer.tokenize(tweet2)\n",
    "    \n",
    "    \n",
    "    # removing stop words and puncuations\n",
    "    stopwords_english = stopwords.words('english')\n",
    "    # string.punctuation\n",
    "    \n",
    "    for word in tweet_tokens: # Go through every word in your tokens list\n",
    "        if (word not in stopwords_english and word not in string.punctuation): # remove stopwords and remove punctuation\n",
    "            processed_tweet.append(word)\n",
    "    \n",
    "    # stemming\n",
    "    stemmer = PorterStemmer() \n",
    "\n",
    "    # Create an empty list to store the stems\n",
    "    tweets_stem = [] \n",
    "\n",
    "    for word in processed_tweet:\n",
    "        stem_word = stemmer.stem(word)  # stemming word\n",
    "        if stem_word not in tweets_stem:\n",
    "            tweets_stem.append(stem_word)  # append to the list\n",
    "\n",
    "    \n",
    "    return tweets_stem\n",
    "    \n",
    "\n",
    "    "
   ]
  },
  {
   "cell_type": "code",
   "execution_count": 86,
   "id": "ed6caba7-dcb3-49e3-a91e-52d07972e00a",
   "metadata": {},
   "outputs": [
    {
     "name": "stdout",
     "output_type": "stream",
     "text": [
      "\n",
      "\u001b[1m\u001b[31mMy beautiful sunflowers on a sunny Friday morning off :) #sunflowers #favourites #happy #Friday off… https://t.co/3tfYom0N1i\u001b[0m\n",
      "\n",
      "\u001b[1m\u001b[32m['beauti', 'sunflow', 'sunni', 'friday', 'morn', ':)', 'favourit', 'happi', '…']\u001b[0m\n"
     ]
    }
   ],
   "source": [
    "print(\"\")\n",
    "cprint(tweet,\"red\",attrs=[\"bold\"])\n",
    "processed_tweet = preprocessing(tweet)\n",
    "print(\"\")\n",
    "cprint(processed_tweet,\"green\",attrs=[\"bold\"])\n",
    "\n",
    "# cprint(,\"red\",attrs=[\"bold\"])"
   ]
  },
  {
   "cell_type": "markdown",
   "id": "a04e90dd-ea1e-4d25-9ca7-db4513ee8d57",
   "metadata": {},
   "source": [
    "### Extract Features and visualize them"
   ]
  },
  {
   "cell_type": "code",
   "execution_count": null,
   "id": "a8d595a8-e70d-41e5-a0ad-1d8e0460d91c",
   "metadata": {},
   "outputs": [],
   "source": []
  }
 ],
 "metadata": {
  "kernelspec": {
   "display_name": "Python 3 (ipykernel)",
   "language": "python",
   "name": "python3"
  },
  "language_info": {
   "codemirror_mode": {
    "name": "ipython",
    "version": 3
   },
   "file_extension": ".py",
   "mimetype": "text/x-python",
   "name": "python",
   "nbconvert_exporter": "python",
   "pygments_lexer": "ipython3",
   "version": "3.9.12"
  }
 },
 "nbformat": 4,
 "nbformat_minor": 5
}
